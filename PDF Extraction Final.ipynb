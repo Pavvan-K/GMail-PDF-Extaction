{
 "cells": [
  {
   "cell_type": "code",
   "execution_count": 22,
   "metadata": {},
   "outputs": [],
   "source": [
    "import email\n",
    "import getpass, imaplib\n",
    "import os\n",
    "import sys\n",
    "detach_dir = '.'"
   ]
  },
  {
   "cell_type": "code",
   "execution_count": 6,
   "metadata": {},
   "outputs": [],
   "source": [
    "imapSession = imaplib.IMAP4_SSL('imap.gmail.com')\n",
    "userName = \"pavan4777@gmail.com\"\n",
    "passwd = \"xytfyhvxliggondf\"\n",
    "typ, accountDetails = imapSession.login(userName, passwd)"
   ]
  },
  {
   "cell_type": "code",
   "execution_count": 7,
   "metadata": {},
   "outputs": [
    {
     "data": {
      "text/plain": [
       "('OK', [b'52526'])"
      ]
     },
     "execution_count": 7,
     "metadata": {},
     "output_type": "execute_result"
    }
   ],
   "source": [
    "imapSession.select(\"Inbox\") "
   ]
  },
  {
   "cell_type": "code",
   "execution_count": 8,
   "metadata": {},
   "outputs": [],
   "source": [
    "typ, msgs = imapSession.search(None, '(SUBJECT \"Combined Equity Contract Note for TF4308\")')"
   ]
  },
  {
   "cell_type": "code",
   "execution_count": 25,
   "metadata": {},
   "outputs": [
    {
     "name": "stdout",
     "output_type": "stream",
     "text": [
      "13-11-2019_contract_note_TF4308.pdf\n",
      "15-11-2019_contract_note_TF4308.pdf\n",
      "19-11-2019_contract_note_TF4308.pdf\n",
      "20-11-2019_contract_note_TF4308.pdf\n",
      "21-11-2019_contract_note_TF4308.pdf\n",
      "22-11-2019_contract_note_TF4308.pdf\n",
      "25-11-2019_contract_note_TF4308.pdf\n",
      "26-11-2019_contract_note_TF4308.pdf\n",
      "29-11-2019_contract_note_TF4308.pdf\n",
      "03-12-2019_contract_note_TF4308.pdf\n",
      "04-12-2019_contract_note_TF4308.pdf\n",
      "05-12-2019_contract_note_TF4308.pdf\n",
      "06-12-2019_contract_note_TF4308.pdf\n",
      "19-12-2019_contract_note_TF4308.pdf\n",
      "23-12-2019_contract_note_TF4308.pdf\n",
      "08-01-2020_contract_note_TF4308.pdf\n",
      "13-01-2020_contract_note_TF4308.pdf\n",
      "01-02-2020_contract_note_TF4308.pdf\n",
      "16-03-2020_contract_note_TF4308.pdf\n",
      "18-03-2020_contract_note_TF4308.pdf\n",
      "23-03-2020_contract_note_TF4308.pdf\n",
      "08-04-2020_contract_note_TF4308.pdf\n",
      "2020-06-15-contract-notes_TF4308.pdf\n",
      "2020-06-16-contract-notes_TF4308.pdf\n",
      "2020-06-18-contract-notes_TF4308.pdf\n",
      "2020-06-22-contract-notes_TF4308.pdf\n",
      "2020-06-23-contract-notes_TF4308.pdf\n",
      "2020-06-24-contract-notes_TF4308.pdf\n",
      "2020-07-06-contract-notes_TF4308.pdf\n",
      "2020-07-07-contract-notes_TF4308.pdf\n",
      "2020-07-08-contract-notes_TF4308.pdf\n",
      "2020-07-13-contract-notes_TF4308.pdf\n",
      "2020-07-14-contract-notes_TF4308.pdf\n",
      "2020-07-16-contract-notes_TF4308.pdf\n",
      "2020-07-20-contract-notes_TF4308.pdf\n",
      "2020-07-21-contract-notes_TF4308.pdf\n",
      "2020-07-27-contract-notes_TF4308.pdf\n",
      "2020-07-28-contract-notes_TF4308.pdf\n",
      "2020-07-30-contract-notes_TF4308.pdf\n",
      "2020-07-31-contract-notes_TF4308.pdf\n"
     ]
    }
   ],
   "source": [
    "for msgId in msgs[0].decode(\"utf-8\").split(' '):\n",
    "        typ, messageParts = imapSession.fetch(msgId, '(RFC822)')\n",
    "        if typ != 'OK':\n",
    "            print ('Error fetching mail.')\n",
    "            raise\n",
    "\n",
    "        emailBody = messageParts[0][1]\n",
    "        mail = email.message_from_string(emailBody.decode(\"utf-8\"))\n",
    "        for part in mail.walk():\n",
    "            if part.get_content_maintype() == 'multipart':\n",
    "                # print part.as_string()\n",
    "                continue\n",
    "            if part.get('Content-Disposition') is None:\n",
    "                # print part.as_string()\n",
    "                continue\n",
    "            fileName = part.get_filename()\n",
    "\n",
    "            if bool(fileName):\n",
    "                filePath = os.path.join(detach_dir, 'attachments2', fileName)\n",
    "                if not os.path.isfile(filePath) :\n",
    "                    print( fileName)\n",
    "                    fp = open(filePath, 'wb+')\n",
    "                    fp.write(part.get_payload(decode=True))\n",
    "                    fp.close()"
   ]
  },
  {
   "cell_type": "markdown",
   "metadata": {},
   "source": [
    "# Parsing PDFS"
   ]
  },
  {
   "cell_type": "code",
   "execution_count": 56,
   "metadata": {},
   "outputs": [],
   "source": [
    "ROOT_DIR = r\"C:\\Users\\LENOVO\\attachments2\"\n",
    "import tabula"
   ]
  },
  {
   "cell_type": "code",
   "execution_count": 51,
   "metadata": {
    "collapsed": true
   },
   "outputs": [
    {
     "data": {
      "text/plain": [
       "['01-02-2020_contract_note_TF4308.pdf',\n",
       " '03-12-2019_contract_note_TF4308.pdf',\n",
       " '04-12-2019_contract_note_TF4308.pdf',\n",
       " '05-12-2019_contract_note_TF4308.pdf',\n",
       " '06-12-2019_contract_note_TF4308.pdf',\n",
       " '08-01-2020_contract_note_TF4308.pdf',\n",
       " '08-04-2020_contract_note_TF4308.pdf',\n",
       " '13-01-2020_contract_note_TF4308.pdf',\n",
       " '13-11-2019_contract_note_TF4308.pdf',\n",
       " '15-11-2019_contract_note_TF4308.pdf',\n",
       " '16-03-2020_contract_note_TF4308.pdf',\n",
       " '18-03-2020_contract_note_TF4308.pdf',\n",
       " '19-11-2019_contract_note_TF4308.pdf',\n",
       " '19-12-2019_contract_note_TF4308.pdf',\n",
       " '20-11-2019_contract_note_TF4308.pdf',\n",
       " '2020-06-15-contract-notes_TF4308.pdf',\n",
       " '2020-06-16-contract-notes_TF4308.pdf',\n",
       " '2020-06-18-contract-notes_TF4308.pdf',\n",
       " '2020-06-22-contract-notes_TF4308.pdf',\n",
       " '2020-06-23-contract-notes_TF4308.pdf',\n",
       " '2020-06-24-contract-notes_TF4308.pdf',\n",
       " '2020-07-06-contract-notes_TF4308.pdf',\n",
       " '2020-07-07-contract-notes_TF4308.pdf',\n",
       " '2020-07-08-contract-notes_TF4308.pdf',\n",
       " '2020-07-13-contract-notes_TF4308.pdf',\n",
       " '2020-07-14-contract-notes_TF4308.pdf',\n",
       " '2020-07-16-contract-notes_TF4308.pdf',\n",
       " '2020-07-20-contract-notes_TF4308.pdf',\n",
       " '2020-07-21-contract-notes_TF4308.pdf',\n",
       " '2020-07-27-contract-notes_TF4308.pdf',\n",
       " '2020-07-28-contract-notes_TF4308.pdf',\n",
       " '2020-07-30-contract-notes_TF4308.pdf',\n",
       " '2020-07-31-contract-notes_TF4308.pdf',\n",
       " '21-11-2019_contract_note_TF4308.pdf',\n",
       " '22-11-2019_contract_note_TF4308.pdf',\n",
       " '23-03-2020_contract_note_TF4308.pdf',\n",
       " '23-12-2019_contract_note_TF4308.pdf',\n",
       " '25-11-2019_contract_note_TF4308.pdf',\n",
       " '26-11-2019_contract_note_TF4308.pdf',\n",
       " '29-11-2019_contract_note_TF4308.pdf']"
      ]
     },
     "execution_count": 51,
     "metadata": {},
     "output_type": "execute_result"
    }
   ],
   "source": [
    "file_names = os.listdir(ROOT_DIR)\n",
    "file_names"
   ]
  },
  {
   "cell_type": "code",
   "execution_count": 58,
   "metadata": {},
   "outputs": [
    {
     "name": "stdout",
     "output_type": "stream",
     "text": [
      "C:\\Users\\LENOVO\\attachments2\\01-02-2020_contract_note_TF4308.pdf\n"
     ]
    }
   ],
   "source": [
    "for pdf_files in [file_names[0]]:\n",
    "    print(os.path.join(ROOT_DIR,pdf_files))\n",
    "    tables = tabula.io.read_pdf(os.path.join(ROOT_DIR,pdf_files),pages='all',password=\"ENZPK4833F\")"
   ]
  },
  {
   "cell_type": "code",
   "execution_count": 64,
   "metadata": {},
   "outputs": [],
   "source": [
    "tables[0].to_csv(\"table1.csv\")"
   ]
  },
  {
   "cell_type": "code",
   "execution_count": 65,
   "metadata": {},
   "outputs": [],
   "source": [
    "tables[1].to_csv(\"table2.csv\")"
   ]
  },
  {
   "cell_type": "code",
   "execution_count": 66,
   "metadata": {},
   "outputs": [],
   "source": [
    "tables[2].to_csv(\"table3.csv\")"
   ]
  },
  {
   "cell_type": "code",
   "execution_count": 67,
   "metadata": {},
   "outputs": [],
   "source": [
    "tables[4].to_csv(\"table4.csv\")"
   ]
  }
 ],
 "metadata": {
  "kernelspec": {
   "display_name": "Python 3",
   "language": "python",
   "name": "python3"
  },
  "language_info": {
   "codemirror_mode": {
    "name": "ipython",
    "version": 3
   },
   "file_extension": ".py",
   "mimetype": "text/x-python",
   "name": "python",
   "nbconvert_exporter": "python",
   "pygments_lexer": "ipython3",
   "version": "3.7.6"
  }
 },
 "nbformat": 4,
 "nbformat_minor": 4
}
